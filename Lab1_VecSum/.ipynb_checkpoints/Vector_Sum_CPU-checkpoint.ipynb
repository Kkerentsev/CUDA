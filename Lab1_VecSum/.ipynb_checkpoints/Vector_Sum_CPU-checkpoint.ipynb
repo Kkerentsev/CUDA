{
 "cells": [
  {
   "cell_type": "code",
   "execution_count": 1,
   "id": "f14eb652",
   "metadata": {},
   "outputs": [],
   "source": [
    "import numpy as np\n",
    "from tabulate import tabulate\n",
    "import time\n",
    "\n",
    "# Number of iteration ro be done to compute the average elapsed time\n",
    "ITER_COUNT = 5"
   ]
  },
  {
   "attachments": {
    "image.png": {
     "image/png": "[encoded data removed]"
    }
   },
   "cell_type": "markdown",
   "id": "671de996",
   "metadata": {},
   "source": [
    "**!systeminfo**\n",
    "\n",
    "![image.png](attachment:image.png)"
   ]
  },
  {
   "cell_type": "code",
   "execution_count": 2,
   "id": "711c9b33",
   "metadata": {},
   "outputs": [],
   "source": [
    "def main():\n",
    "    rows = [] # rows for the result table\n",
    "    vec_size_ = [1_000, 50_000, 200_000, 600_000, 1_000_000, 100_000_000]\n",
    "    for vec_size in vec_size_:\n",
    "        cpu_time_sum = 0\n",
    "        \n",
    "        for _ in range(ITER_COUNT):\n",
    "            vec = np.random.randint(5000, size = vec_size)\n",
    "            start = time.time()\n",
    "            res = np.sum(vec)\n",
    "            cpu_time_sum += time.time() - start\n",
    "            \n",
    "        row = [vec_size, cpu_time_sum / ITER_COUNT]\n",
    "        rows.append(row)\n",
    "        \n",
    "    print(tabulate(rows, headers = ['vector size', 'cpu time, seconds']))       "
   ]
  },
  {
   "cell_type": "code",
   "execution_count": 3,
   "id": "9b87e2b0",
   "metadata": {},
   "outputs": [
    {
     "name": "stdout",
     "output_type": "stream",
     "text": [
      "  vector size    cpu time, seconds\n",
      "-------------  -------------------\n",
      "         1000          0\n",
      "        50000          0.000400352\n",
      "       200000          0.000400496\n",
      "       600000          0.00100183\n",
      "      1000000          0.000802183\n",
      "    100000000          0.0615705\n"
     ]
    }
   ],
   "source": [
    "main()"
   ]
  },
  {
   "cell_type": "code",
   "execution_count": null,
   "id": "ab809362",
   "metadata": {},
   "outputs": [],
   "source": []
  }
 ],
 "metadata": {
  "kernelspec": {
   "display_name": "Python 3 (ipykernel)",
   "language": "python",
   "name": "python3"
  },
  "language_info": {
   "codemirror_mode": {
    "name": "ipython",
    "version": 3
   },
   "file_extension": ".py",
   "mimetype": "text/x-python",
   "name": "python",
   "nbconvert_exporter": "python",
   "pygments_lexer": "ipython3",
   "version": "3.9.7"
  }
 },
 "nbformat": 4,
 "nbformat_minor": 5
}
