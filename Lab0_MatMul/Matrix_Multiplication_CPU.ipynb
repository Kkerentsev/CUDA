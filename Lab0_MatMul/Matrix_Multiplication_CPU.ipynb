{
 "cells": [
  {
   "cell_type": "code",
   "execution_count": 1,
   "id": "fc23022d",
   "metadata": {},
   "outputs": [],
   "source": [
    "import numpy as np\n",
    "import time\n",
    "import math"
   ]
  },
  {
   "cell_type": "code",
   "execution_count": 2,
   "id": "e83532b0",
   "metadata": {},
   "outputs": [],
   "source": [
    "# Размер матриц\n",
    "size = 100\n",
    "\n",
    "# Cоздаем две матрицы для умножения и результирующую матрицу\n",
    "matrix_1 = np.random.randint(0, 10, (size, size))\n",
    "matrix_2 = np.random.randint(0, 10, (size, size))\n",
    "matrix_result = np.zeros((size, size), dtype=int)"
   ]
  },
  {
   "cell_type": "code",
   "execution_count": 3,
   "id": "39ece321",
   "metadata": {},
   "outputs": [],
   "source": [
    "def matrix_multiplication_cpu(a, b, c):\n",
    "    for i in range(size):\n",
    "        for j in range(size):\n",
    "            for z in range(size):\n",
    "                c[i, j] += a[i, z] * b[z, j]"
   ]
  },
  {
   "cell_type": "code",
   "execution_count": 4,
   "id": "d4acc0d2",
   "metadata": {},
   "outputs": [
    {
     "name": "stdout",
     "output_type": "stream",
     "text": [
      "Перемножение матриц размера:  (100, 100)\n",
      "Перемножение на CPU заняло  0.6013503074645996 секунд\n"
     ]
    }
   ],
   "source": [
    "print(\"Перемножение матриц размера: \", matrix_1.shape )\n",
    "time_start = time.time()\n",
    "matrix_multiplication_cpu(matrix_1, matrix_2, matrix_result)\n",
    "time_stop = time.time()\n",
    "print(\"Перемножение на CPU заняло  %s секунд\" % (time_stop - time_start))\n",
    "\n",
    "    \n",
    "\n",
    "\n"
   ]
  }
 ],
 "metadata": {
  "kernelspec": {
   "display_name": "Python 3 (ipykernel)",
   "language": "python",
   "name": "python3"
  },
  "language_info": {
   "codemirror_mode": {
    "name": "ipython",
    "version": 3
   },
   "file_extension": ".py",
   "mimetype": "text/x-python",
   "name": "python",
   "nbconvert_exporter": "python",
   "pygments_lexer": "ipython3",
   "version": "3.9.7"
  }
 },
 "nbformat": 4,
 "nbformat_minor": 5
}
