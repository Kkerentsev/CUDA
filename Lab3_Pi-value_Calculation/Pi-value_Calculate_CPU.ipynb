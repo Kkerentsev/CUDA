{
 "cells": [
  {
   "cell_type": "code",
   "execution_count": 1,
   "id": "81817bec",
   "metadata": {},
   "outputs": [],
   "source": [
    "import numpy as np\n",
    "from time import time\n",
    "import pandas as pd"
   ]
  },
  {
   "cell_type": "markdown",
   "id": "f62148a2",
   "metadata": {},
   "source": [
    "Функция *CPU_pi_calc* принимает на вход кол-во случайных точек для подсчета чилса **Pi** на CPU"
   ]
  },
  {
   "cell_type": "code",
   "execution_count": 2,
   "id": "8a64c454",
   "metadata": {},
   "outputs": [],
   "source": [
    "def CPU_pi_calc(N):\n",
    "    x = np.random.uniform(size=N)\n",
    "    y = np.random.uniform(size=N)\n",
    "    z = x ** 2 + y ** 2\n",
    "    z = z <= 1\n",
    "    z = sum(z)\n",
    "    res = 4.0 * z / N\n",
    "    return res"
   ]
  },
  {
   "cell_type": "markdown",
   "id": "5344123d",
   "metadata": {},
   "source": [
    "Создаём DataFrame из библиотеки pandas для наглядного отображения результата"
   ]
  },
  {
   "cell_type": "code",
   "execution_count": 3,
   "id": "c1ad03fe",
   "metadata": {},
   "outputs": [],
   "source": [
    "iteration_count = np.arange(1,9,1)\n",
    "\n",
    "df = {\"CPU time, second\":np.zeros(len(iteration_count), dtype=float),\n",
    "      \"CPU Pi value\":np.zeros(len(iteration_count), dtype=float),\n",
    "      \"Amount of points\":np.zeros(len(iteration_count), dtype=float)}\n",
    "\n",
    "df = pd.DataFrame(df, index=iteration_count)"
   ]
  },
  {
   "cell_type": "markdown",
   "id": "6b70be04",
   "metadata": {},
   "source": [
    "Проводим 8 экспериментов начиная от 1.000 точек с шагом 400.000 для наглядного разници времени выполнения"
   ]
  },
  {
   "cell_type": "code",
   "execution_count": 4,
   "id": "a6830cd1",
   "metadata": {},
   "outputs": [
    {
     "data": {
      "text/html": [
       "<div>\n",
       "<style scoped>\n",
       "    .dataframe tbody tr th:only-of-type {\n",
       "        vertical-align: middle;\n",
       "    }\n",
       "\n",
       "    .dataframe tbody tr th {\n",
       "        vertical-align: top;\n",
       "    }\n",
       "\n",
       "    .dataframe thead th {\n",
       "        text-align: right;\n",
       "    }\n",
       "</style>\n",
       "<table border=\"1\" class=\"dataframe\">\n",
       "  <thead>\n",
       "    <tr style=\"text-align: right;\">\n",
       "      <th></th>\n",
       "      <th>CPU time, second</th>\n",
       "      <th>CPU Pi value</th>\n",
       "      <th>Amount of points</th>\n",
       "    </tr>\n",
       "  </thead>\n",
       "  <tbody>\n",
       "    <tr>\n",
       "      <th>1</th>\n",
       "      <td>0.004992</td>\n",
       "      <td>3.216000</td>\n",
       "      <td>1000.0</td>\n",
       "    </tr>\n",
       "    <tr>\n",
       "      <th>2</th>\n",
       "      <td>1.429446</td>\n",
       "      <td>3.145327</td>\n",
       "      <td>401000.0</td>\n",
       "    </tr>\n",
       "    <tr>\n",
       "      <th>3</th>\n",
       "      <td>2.929887</td>\n",
       "      <td>3.141648</td>\n",
       "      <td>801000.0</td>\n",
       "    </tr>\n",
       "    <tr>\n",
       "      <th>4</th>\n",
       "      <td>3.591557</td>\n",
       "      <td>3.141905</td>\n",
       "      <td>1201000.0</td>\n",
       "    </tr>\n",
       "    <tr>\n",
       "      <th>5</th>\n",
       "      <td>3.190790</td>\n",
       "      <td>3.140227</td>\n",
       "      <td>1601000.0</td>\n",
       "    </tr>\n",
       "    <tr>\n",
       "      <th>6</th>\n",
       "      <td>4.122735</td>\n",
       "      <td>3.140096</td>\n",
       "      <td>2001000.0</td>\n",
       "    </tr>\n",
       "    <tr>\n",
       "      <th>7</th>\n",
       "      <td>4.747301</td>\n",
       "      <td>3.141521</td>\n",
       "      <td>2401000.0</td>\n",
       "    </tr>\n",
       "    <tr>\n",
       "      <th>8</th>\n",
       "      <td>5.620776</td>\n",
       "      <td>3.142345</td>\n",
       "      <td>2801000.0</td>\n",
       "    </tr>\n",
       "  </tbody>\n",
       "</table>\n",
       "</div>"
      ],
      "text/plain": [
       "   CPU time, second  CPU Pi value  Amount of points\n",
       "1          0.004992      3.216000            1000.0\n",
       "2          1.429446      3.145327          401000.0\n",
       "3          2.929887      3.141648          801000.0\n",
       "4          3.591557      3.141905         1201000.0\n",
       "5          3.190790      3.140227         1601000.0\n",
       "6          4.122735      3.140096         2001000.0\n",
       "7          4.747301      3.141521         2401000.0\n",
       "8          5.620776      3.142345         2801000.0"
      ]
     },
     "execution_count": 4,
     "metadata": {},
     "output_type": "execute_result"
    }
   ],
   "source": [
    "N = 1_000\n",
    "\n",
    "for i in iteration_count:\n",
    "    cpu_start = time()\n",
    "    cpu_pi = CPU_pi_calc(N).mean()\n",
    "    cpu_time = time() - cpu_start\n",
    "    \n",
    "    df.loc[i, \"CPU time, second\"] = cpu_time\n",
    "    df.loc[i, \"CPU Pi value\"] = cpu_pi\n",
    "    df.loc[i, \"Amount of points\"] = N\n",
    "    \n",
    "    N += 400_000\n",
    "\n",
    "df"
   ]
  },
  {
   "cell_type": "code",
   "execution_count": null,
   "id": "8e28aaca",
   "metadata": {},
   "outputs": [],
   "source": []
  }
 ],
 "metadata": {
  "kernelspec": {
   "display_name": "Python 3 (ipykernel)",
   "language": "python",
   "name": "python3"
  },
  "language_info": {
   "codemirror_mode": {
    "name": "ipython",
    "version": 3
   },
   "file_extension": ".py",
   "mimetype": "text/x-python",
   "name": "python",
   "nbconvert_exporter": "python",
   "pygments_lexer": "ipython3",
   "version": "3.9.7"
  }
 },
 "nbformat": 4,
 "nbformat_minor": 5
}
